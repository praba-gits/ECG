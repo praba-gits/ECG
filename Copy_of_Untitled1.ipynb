{
  "nbformat": 4,
  "nbformat_minor": 0,
  "metadata": {
    "colab": {
      "provenance": [],
      "gpuType": "T4",
      "authorship_tag": "ABX9TyMfPAxQRDmn//Mk48fvrSP9",
      "include_colab_link": true
    },
    "kernelspec": {
      "name": "python3",
      "display_name": "Python 3"
    },
    "language_info": {
      "name": "python"
    },
    "accelerator": "GPU"
  },
  "cells": [
    {
      "cell_type": "markdown",
      "metadata": {
        "id": "view-in-github",
        "colab_type": "text"
      },
      "source": [
        "<a href=\"https://colab.research.google.com/github/praba-gits/ECG/blob/main/Copy_of_Untitled1.ipynb\" target=\"_parent\"><img src=\"https://colab.research.google.com/assets/colab-badge.svg\" alt=\"Open In Colab\"/></a>"
      ]
    },
    {
      "cell_type": "code",
      "execution_count": null,
      "metadata": {
        "colab": {
          "base_uri": "https://localhost:8080/"
        },
        "id": "pTBJqriNRrei",
        "outputId": "d07ef86d-0dd3-4f39-d7c9-6fc448da18a0"
      },
      "outputs": [
        {
          "output_type": "stream",
          "name": "stdout",
          "text": [
            "Cloning into 'ecg'...\n",
            "remote: Enumerating objects: 2721, done.\u001b[K\n",
            "remote: Counting objects: 100% (41/41), done.\u001b[K\n",
            "remote: Compressing objects: 100% (30/30), done.\u001b[K\n",
            "remote: Total 2721 (delta 32), reused 11 (delta 11), pack-reused 2680 (from 5)\u001b[K\n",
            "Receiving objects: 100% (2721/2721), 2.41 MiB | 13.42 MiB/s, done.\n",
            "Resolving deltas: 100% (1732/1732), done.\n"
          ]
        }
      ],
      "source": [
        "!git clone https://github.com/awni/ecg.git"
      ]
    },
    {
      "cell_type": "code",
      "source": [
        "!git clone https://github.com/awni/ecg.git"
      ],
      "metadata": {
        "colab": {
          "base_uri": "https://localhost:8080/"
        },
        "id": "QngtjP28Sc0u",
        "outputId": "9819a6d4-f8ca-4ef6-b42e-be5c6cac202f"
      },
      "execution_count": 1,
      "outputs": [
        {
          "output_type": "stream",
          "name": "stdout",
          "text": [
            "Cloning into 'ecg'...\n",
            "remote: Enumerating objects: 2721, done.\u001b[K\n",
            "remote: Counting objects: 100% (41/41), done.\u001b[K\n",
            "remote: Compressing objects: 100% (30/30), done.\u001b[K\n",
            "remote: Total 2721 (delta 32), reused 11 (delta 11), pack-reused 2680 (from 5)\u001b[K\n",
            "Receiving objects: 100% (2721/2721), 2.41 MiB | 5.40 MiB/s, done.\n",
            "Resolving deltas: 100% (1732/1732), done.\n"
          ]
        }
      ]
    }
  ]
}